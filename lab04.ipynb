{
 "cells": [
  {
   "cell_type": "markdown",
   "id": "f0c77b92-302d-4f69-ad46-b23e13a40bf0",
   "metadata": {},
   "source": [
    "# Laboratorio 04 --> Clasificación de Malware"
   ]
  },
  {
   "cell_type": "markdown",
   "id": "f00b950c-2f4d-4778-8965-0b4281a0fdad",
   "metadata": {},
   "source": [
    "Universidad del Valle de Guatemala"
   ]
  },
  {
   "cell_type": "markdown",
   "id": "eb127f0e-0775-40d0-9d56-eb9c7a8fdb80",
   "metadata": {},
   "source": [
    "Luis Pedro Cuéllar - 18220"
   ]
  },
  {
   "cell_type": "markdown",
   "id": "f1d9892e-67f2-4bfb-8e5e-9ce9a9c22e41",
   "metadata": {},
   "source": [
    "\n",
    "### Parte I --> Análisis de un Malware\n"
   ]
  },
  {
   "cell_type": "code",
   "execution_count": 1,
   "id": "d4f53e16-46d3-4813-80b6-da462cccc6f0",
   "metadata": {},
   "outputs": [],
   "source": [
    "import os\n",
    "import glob\n",
    "import pefile\n",
    "import hashlib\n",
    "import numpy as np\n",
    "import pandas as pd"
   ]
  },
  {
   "cell_type": "code",
   "execution_count": 6,
   "id": "580ee10e-0dba-4553-bcc9-2998046b8d75",
   "metadata": {},
   "outputs": [
    {
     "data": {
      "text/plain": [
       "['MALWR2/sample_qwrty_dk2', 'MALWR2/sample_vg655_25th.exe']"
      ]
     },
     "execution_count": 6,
     "metadata": {},
     "output_type": "execute_result"
    }
   ],
   "source": [
    "PATH = \"MALWR2\"\n",
    "\n",
    "all_files = glob.glob(\"{}/*\".format(PATH))\n",
    "all_files"
   ]
  },
  {
   "cell_type": "markdown",
   "id": "6f97604c-b24d-4a3a-bf6e-75c824e0baf3",
   "metadata": {},
   "source": [
    "\n",
    "#### **Análisis Estático**\n"
   ]
  },
  {
   "cell_type": "code",
   "execution_count": 19,
   "id": "8458fb19-f880-40ed-9050-750e18853817",
   "metadata": {
    "tags": []
   },
   "outputs": [
    {
     "name": "stdout",
     "output_type": "stream",
     "text": [
      "\n",
      "\n",
      "FILE NAME :\n",
      "\t MALWR2/sample_qwrty_dk2\n",
      "DLL CALLS :\n",
      "\t ['KERNEL32.DLL', 'MSVCRT.dll', 'SHELL32.dll', 'USER32.dll', 'WS2_32.dll']\n",
      "API_CALLS :\n",
      "\t ['LoadLibraryA', 'ExitProcess', 'GetProcAddress', 'VirtualProtect', 'atol', 'SHChangeNotify', 'LoadStringA', 'closesocket']\n",
      "\n",
      "\n",
      "FILE NAME :\n",
      "\t MALWR2/sample_vg655_25th.exe\n",
      "DLL CALLS :\n",
      "\t ['KERNEL32.dll', 'USER32.dll', 'ADVAPI32.dll', 'MSVCRT.dll']\n",
      "API_CALLS :\n",
      "\t ['GetFileAttributesW', 'GetFileSizeEx', 'CreateFileA', 'InitializeCriticalSection', 'DeleteCriticalSection', 'ReadFile', 'GetFileSize', 'WriteFile', 'LeaveCriticalSection', 'EnterCriticalSection', 'SetFileAttributesW', 'SetCurrentDirectoryW', 'CreateDirectoryW', 'GetTempPathW', 'GetWindowsDirectoryW', 'GetFileAttributesA', 'SizeofResource', 'LockResource', 'LoadResource', 'MultiByteToWideChar', 'Sleep', 'OpenMutexA', 'GetFullPathNameA', 'CopyFileA', 'GetModuleFileNameA', 'VirtualAlloc', 'VirtualFree', 'FreeLibrary', 'HeapAlloc', 'GetProcessHeap', 'GetModuleHandleA', 'SetLastError', 'VirtualProtect', 'IsBadReadPtr', 'HeapFree', 'SystemTimeToFileTime', 'LocalFileTimeToFileTime', 'CreateDirectoryA', 'GetStartupInfoA', 'SetFilePointer', 'SetFileTime', 'GetComputerNameW', 'GetCurrentDirectoryA', 'SetCurrentDirectoryA', 'GlobalAlloc', 'LoadLibraryA', 'GetProcAddress', 'GlobalFree', 'CreateProcessA', 'CloseHandle', 'WaitForSingleObject', 'TerminateProcess', 'GetExitCodeProcess', 'FindResourceA', 'wsprintfA', 'CreateServiceA', 'OpenServiceA', 'StartServiceA', 'CloseServiceHandle', 'CryptReleaseContext', 'RegCreateKeyW', 'RegSetValueExA', 'RegQueryValueExA', 'RegCloseKey', 'OpenSCManagerA', 'realloc', 'fclose', 'fwrite', 'fread', 'fopen', 'sprintf', 'rand', 'srand', 'strcpy', 'memset', 'strlen', 'wcscat', 'wcslen', '__CxxFrameHandler', '??3@YAXPAX@Z', 'memcmp', '_except_handler3', '_local_unwind2', 'wcsrchr', 'swprintf', '??2@YAPAXI@Z', 'memcpy', 'strcmp', 'strrchr', '__p___argv', '__p___argc', '_stricmp', 'free', 'malloc', '??0exception@@QAE@ABV0@@Z', '??1exception@@UAE@XZ', '??0exception@@QAE@ABQBD@Z', '_CxxThrowException', 'calloc', 'strcat', '_mbsstr', '??1type_info@@UAE@XZ', '_exit', '_XcptFilter', 'exit', '_acmdln', '__getmainargs', '_initterm', '__setusermatherr', '_adjust_fdiv', '__p__commode', '__p__fmode', '__set_app_type', '_controlfp']\n"
     ]
    }
   ],
   "source": [
    "df = []\n",
    "\n",
    "for i in all_files:\n",
    "    dll_calls = []\n",
    "    api_calls = []\n",
    "    \n",
    "    pe = pefile.PE(i)\n",
    "    for entry in pe.DIRECTORY_ENTRY_IMPORT:\n",
    "        dll_calls.append(entry.dll.decode(\"utf-8\"))\n",
    "        \n",
    "        for call in entry.imports:\n",
    "            api_calls.append(call.name.decode(\"utf-8\"))\n",
    "    \n",
    "    df.append(dll_calls)\n",
    "    df.append(api_calls)\n",
    "    \n",
    "    print(\"\\n\")\n",
    "    print(\"FILE NAME :\\n\\t {}\".format(i))\n",
    "    print(\"DLL CALLS :\\n\\t {}\".format(dll_calls))\n",
    "    print(\"API_CALLS :\\n\\t {}\".format(api_calls))"
   ]
  },
  {
   "cell_type": "markdown",
   "id": "cfbbf2e3-1d57-4981-a4fb-b8c38efb249e",
   "metadata": {},
   "source": [
    "**1. ¿Qué  diferencias  observa  entre  los  ejemplos?  ¿Existe  algún  indicio \n",
    "sospechoso en la cantidad de DLLs y las APIs llamadas?**\n",
    "\n",
    "Entre los dos archivos que se extrajeron, se puede observar que la cantidad de llamadas en el segudo archivo aumenta significativamente. En el segundo archivo podemos observar llamas a API como la de abrir, escribir y cerrar un archivo. También, se obtiene varios path, crea archivos con el path, con el timestamp y otras llamadas a APIs.\n"
   ]
  },
  {
   "cell_type": "code",
   "execution_count": 29,
   "id": "8addf3ff-26b3-45de-b016-ea4b9f00efa5",
   "metadata": {},
   "outputs": [
    {
     "name": "stdout",
     "output_type": "stream",
     "text": [
      "\n",
      "FILE NAME :\n",
      "\t MALWR2/sample_qwrty_dk2\n",
      "E_MAGIC :\n",
      "\t 23117\n",
      "E_MAGIC (HEX):\n",
      "\t 0x5a4d\n",
      "SIGNATIURE :\n",
      "\t 17744\n",
      "SIGNATIURE (HEX):\n",
      "\t 0x4550\n",
      "UPX0\u0000\u0000\u0000\u0000\n",
      "\tVirtual Address: 0x1000\n",
      "\tVirtual Size: 0x5000\n",
      "\tRaw Size: 0x0\n",
      "UPX1\u0000\u0000\u0000\u0000\n",
      "\tVirtual Address: 0x6000\n",
      "\tVirtual Size: 0x1000\n",
      "\tRaw Size: 0x1000\n",
      ".rsrc\u0000\u0000\u0000\n",
      "\tVirtual Address: 0x7000\n",
      "\tVirtual Size: 0x1000\n",
      "\tRaw Size: 0x200\n",
      "\n",
      "FILE NAME :\n",
      "\t MALWR2/sample_vg655_25th.exe\n",
      "E_MAGIC :\n",
      "\t 23117\n",
      "E_MAGIC (HEX):\n",
      "\t 0x5a4d\n",
      "SIGNATIURE :\n",
      "\t 17744\n",
      "SIGNATIURE (HEX):\n",
      "\t 0x4550\n",
      ".text\u0000\u0000\u0000\n",
      "\tVirtual Address: 0x1000\n",
      "\tVirtual Size: 0x69b0\n",
      "\tRaw Size: 0x7000\n",
      ".rdata\u0000\u0000\n",
      "\tVirtual Address: 0x8000\n",
      "\tVirtual Size: 0x5f70\n",
      "\tRaw Size: 0x6000\n",
      ".data\u0000\u0000\u0000\n",
      "\tVirtual Address: 0xe000\n",
      "\tVirtual Size: 0x1958\n",
      "\tRaw Size: 0x2000\n",
      ".rsrc\u0000\u0000\u0000\n",
      "\tVirtual Address: 0x10000\n",
      "\tVirtual Size: 0x349fa0\n",
      "\tRaw Size: 0x34a000\n"
     ]
    }
   ],
   "source": [
    "df = []\n",
    "\n",
    "for i in all_files:\n",
    "    e_magic = []\n",
    "    signature = []\n",
    "    sections = []\n",
    "    \n",
    "    pe = pefile.PE(i)\n",
    "    \n",
    "    print(\"\\nFILE NAME :\\n\\t {}\".format(i))\n",
    "    \n",
    "    e_magic.append(pe.DOS_HEADER.e_magic)\n",
    "    e_magic.append(hex(pe.DOS_HEADER.e_magic))\n",
    "    \n",
    "    print(\"E_MAGIC :\\n\\t {}\".format(e_magic[0]))\n",
    "    print(\"E_MAGIC (HEX):\\n\\t {}\".format(e_magic[1]))\n",
    "    \n",
    "    signature.append(pe.NT_HEADERS.Signature)\n",
    "    signature.append(hex(pe.NT_HEADERS.Signature))\n",
    "    \n",
    "    print(\"SIGNATIURE :\\n\\t {}\".format(signature[0]))\n",
    "    print(\"SIGNATIURE (HEX):\\n\\t {}\".format(signature[1]))\n",
    "    \n",
    "    for section in pe.sections:\n",
    "        sections.append(section.Name.decode(\"utf-8\"))\n",
    "        sections.append(hex(section.VirtualAddress))\n",
    "        sections.append(hex(section.Misc_VirtualSize))\n",
    "        sections.append(hex(section.SizeOfRawData))\n",
    "        \n",
    "        print(section.Name.decode('utf-8'))\n",
    "        print(\"\\tVirtual Address: \" + hex(section.VirtualAddress))\n",
    "        print(\"\\tVirtual Size: \" + hex(section.Misc_VirtualSize))\n",
    "        print(\"\\tRaw Size: \" + hex(section.SizeOfRawData))\n",
    "    \n",
    "    df.append(e_magic)\n",
    "    df.append(signature)\n",
    "    df.append(sections)"
   ]
  },
  {
   "cell_type": "markdown",
   "id": "28e687f1-4427-4b7c-a557-a10023189ee0",
   "metadata": {},
   "source": [
    "**2. ¿Qué significa que algunas secciones tengan como parte de su nombre “upx”?**\n",
    "\n",
    "Significa que este paquete se encuentra enpaquetado."
   ]
  },
  {
   "cell_type": "code",
   "execution_count": 31,
   "id": "7c88cb10-d4cd-4c0b-918b-43cf0745a934",
   "metadata": {},
   "outputs": [
    {
     "name": "stdout",
     "output_type": "stream",
     "text": [
      "                       Ultimate Packer for eXecutables\n",
      "                          Copyright (C) 1996 - 2020\n",
      "UPX 3.96        Markus Oberhumer, Laszlo Molnar & John Reiser   Jan 23rd 2020\n",
      "\n",
      "        File size         Ratio      Format      Name\n",
      "   --------------------   ------   -----------   -----------\n",
      "      8192 <-      5632   68.75%    win32/pe     sample_qwrty_dk2\n",
      "\n",
      "Unpacked 1 file.\n"
     ]
    },
    {
     "data": {
      "text/plain": [
       "0"
      ]
     },
     "execution_count": 31,
     "metadata": {},
     "output_type": "execute_result"
    }
   ],
   "source": [
    "os.system(\"upx -d {}\".format(all_files[0])) "
   ]
  },
  {
   "cell_type": "code",
   "execution_count": 33,
   "id": "2ebe4f82-3cf2-44ea-8e62-e4c986f8e557",
   "metadata": {},
   "outputs": [
    {
     "name": "stdout",
     "output_type": "stream",
     "text": [
      "\n",
      "\n",
      "FILE NAME :\n",
      "\t MALWR2/sample_qwrty_dk2\n",
      "DLL CALLS :\n",
      "\t ['KERNEL32.DLL', 'MSVCRT.dll', 'SHELL32.dll', 'USER32.dll', 'WS2_32.dll']\n",
      "API_CALLS :\n",
      "\t ['CloseHandle', 'WaitForSingleObject', 'CreateEventA', 'ExitThread', 'Sleep', 'GetComputerNameA', 'CreatePipe', 'DisconnectNamedPipe', 'TerminateProcess', 'WaitForMultipleObjects', 'TerminateThread', 'CreateThread', 'CreateProcessA', 'DuplicateHandle', 'GetCurrentProcess', 'ReadFile', 'PeekNamedPipe', 'SetEvent', 'WriteFile', 'SetProcessPriorityBoost', 'SetThreadPriority', 'GetCurrentThread', 'SetPriorityClass', 'lstrcatA', 'lstrcpyA', 'GetEnvironmentVariableA', 'GetShortPathNameA', 'GetModuleFileNameA', 'GetStartupInfoA', 'GetModuleHandleA', '_controlfp', '_beginthread', '_strnicmp', 'sprintf', 'atol', 'strchr', 'free', 'malloc', '_exit', '_XcptFilter', 'exit', '_acmdln', '__getmainargs', '_initterm', '__setusermatherr', '_adjust_fdiv', '__p__commode', '__p__fmode', '__set_app_type', '_except_handler3', '_itoa', 'ShellExecuteExA', 'SHChangeNotify', 'LoadStringA', 'htons', 'connect', 'socket', 'WSAStartup', 'send', 'inet_addr', 'recv', 'closesocket']\n",
      "\n",
      "\n",
      "FILE NAME :\n",
      "\t MALWR2/sample_vg655_25th.exe\n",
      "DLL CALLS :\n",
      "\t ['KERNEL32.dll', 'USER32.dll', 'ADVAPI32.dll', 'MSVCRT.dll']\n",
      "API_CALLS :\n",
      "\t ['GetFileAttributesW', 'GetFileSizeEx', 'CreateFileA', 'InitializeCriticalSection', 'DeleteCriticalSection', 'ReadFile', 'GetFileSize', 'WriteFile', 'LeaveCriticalSection', 'EnterCriticalSection', 'SetFileAttributesW', 'SetCurrentDirectoryW', 'CreateDirectoryW', 'GetTempPathW', 'GetWindowsDirectoryW', 'GetFileAttributesA', 'SizeofResource', 'LockResource', 'LoadResource', 'MultiByteToWideChar', 'Sleep', 'OpenMutexA', 'GetFullPathNameA', 'CopyFileA', 'GetModuleFileNameA', 'VirtualAlloc', 'VirtualFree', 'FreeLibrary', 'HeapAlloc', 'GetProcessHeap', 'GetModuleHandleA', 'SetLastError', 'VirtualProtect', 'IsBadReadPtr', 'HeapFree', 'SystemTimeToFileTime', 'LocalFileTimeToFileTime', 'CreateDirectoryA', 'GetStartupInfoA', 'SetFilePointer', 'SetFileTime', 'GetComputerNameW', 'GetCurrentDirectoryA', 'SetCurrentDirectoryA', 'GlobalAlloc', 'LoadLibraryA', 'GetProcAddress', 'GlobalFree', 'CreateProcessA', 'CloseHandle', 'WaitForSingleObject', 'TerminateProcess', 'GetExitCodeProcess', 'FindResourceA', 'wsprintfA', 'CreateServiceA', 'OpenServiceA', 'StartServiceA', 'CloseServiceHandle', 'CryptReleaseContext', 'RegCreateKeyW', 'RegSetValueExA', 'RegQueryValueExA', 'RegCloseKey', 'OpenSCManagerA', 'realloc', 'fclose', 'fwrite', 'fread', 'fopen', 'sprintf', 'rand', 'srand', 'strcpy', 'memset', 'strlen', 'wcscat', 'wcslen', '__CxxFrameHandler', '??3@YAXPAX@Z', 'memcmp', '_except_handler3', '_local_unwind2', 'wcsrchr', 'swprintf', '??2@YAPAXI@Z', 'memcpy', 'strcmp', 'strrchr', '__p___argv', '__p___argc', '_stricmp', 'free', 'malloc', '??0exception@@QAE@ABV0@@Z', '??1exception@@UAE@XZ', '??0exception@@QAE@ABQBD@Z', '_CxxThrowException', 'calloc', 'strcat', '_mbsstr', '??1type_info@@UAE@XZ', '_exit', '_XcptFilter', 'exit', '_acmdln', '__getmainargs', '_initterm', '__setusermatherr', '_adjust_fdiv', '__p__commode', '__p__fmode', '__set_app_type', '_controlfp']\n"
     ]
    }
   ],
   "source": [
    "df = []\n",
    "\n",
    "for i in all_files:\n",
    "    dll_calls = []\n",
    "    api_calls = []\n",
    "    \n",
    "    pe = pefile.PE(i)\n",
    "    for entry in pe.DIRECTORY_ENTRY_IMPORT:\n",
    "        dll_calls.append(entry.dll.decode(\"utf-8\"))\n",
    "        \n",
    "        for call in entry.imports:\n",
    "            api_calls.append(call.name.decode(\"utf-8\"))\n",
    "    \n",
    "    df.append(dll_calls)\n",
    "    df.append(api_calls)\n",
    "    \n",
    "    print(\"\\n\")\n",
    "    print(\"FILE NAME :\\n\\t {}\".format(i))\n",
    "    print(\"DLL CALLS :\\n\\t {}\".format(dll_calls))\n",
    "    print(\"API_CALLS :\\n\\t {}\".format(api_calls))"
   ]
  },
  {
   "cell_type": "code",
   "execution_count": 32,
   "id": "c26d754a-5831-4afe-b5c1-7d884c14de24",
   "metadata": {},
   "outputs": [
    {
     "name": "stdout",
     "output_type": "stream",
     "text": [
      "\n",
      "FILE NAME :\n",
      "\t MALWR2/sample_qwrty_dk2\n",
      "E_MAGIC :\n",
      "\t 23117\n",
      "E_MAGIC (HEX):\n",
      "\t 0x5a4d\n",
      "SIGNATIURE :\n",
      "\t 17744\n",
      "SIGNATIURE (HEX):\n",
      "\t 0x4550\n",
      ".text\u0000\u0000\u0000\n",
      "\tVirtual Address: 0x1000\n",
      "\tVirtual Size: 0xea6\n",
      "\tRaw Size: 0x1000\n",
      ".rdata\u0000\u0000\n",
      "\tVirtual Address: 0x2000\n",
      "\tVirtual Size: 0x67e\n",
      "\tRaw Size: 0x800\n",
      ".data\u0000\u0000\u0000\n",
      "\tVirtual Address: 0x3000\n",
      "\tVirtual Size: 0x628\n",
      "\tRaw Size: 0x200\n",
      ".rsrc\u0000\u0000\u0000\n",
      "\tVirtual Address: 0x4000\n",
      "\tVirtual Size: 0x80\n",
      "\tRaw Size: 0x200\n",
      "\n",
      "FILE NAME :\n",
      "\t MALWR2/sample_vg655_25th.exe\n",
      "E_MAGIC :\n",
      "\t 23117\n",
      "E_MAGIC (HEX):\n",
      "\t 0x5a4d\n",
      "SIGNATIURE :\n",
      "\t 17744\n",
      "SIGNATIURE (HEX):\n",
      "\t 0x4550\n",
      ".text\u0000\u0000\u0000\n",
      "\tVirtual Address: 0x1000\n",
      "\tVirtual Size: 0x69b0\n",
      "\tRaw Size: 0x7000\n",
      ".rdata\u0000\u0000\n",
      "\tVirtual Address: 0x8000\n",
      "\tVirtual Size: 0x5f70\n",
      "\tRaw Size: 0x6000\n",
      ".data\u0000\u0000\u0000\n",
      "\tVirtual Address: 0xe000\n",
      "\tVirtual Size: 0x1958\n",
      "\tRaw Size: 0x2000\n",
      ".rsrc\u0000\u0000\u0000\n",
      "\tVirtual Address: 0x10000\n",
      "\tVirtual Size: 0x349fa0\n",
      "\tRaw Size: 0x34a000\n"
     ]
    }
   ],
   "source": [
    "df = []\n",
    "\n",
    "for i in all_files:\n",
    "    e_magic = []\n",
    "    signature = []\n",
    "    sections = []\n",
    "    \n",
    "    pe = pefile.PE(i)\n",
    "    \n",
    "    print(\"\\nFILE NAME :\\n\\t {}\".format(i))\n",
    "    \n",
    "    e_magic.append(pe.DOS_HEADER.e_magic)\n",
    "    e_magic.append(hex(pe.DOS_HEADER.e_magic))\n",
    "    \n",
    "    print(\"E_MAGIC :\\n\\t {}\".format(e_magic[0]))\n",
    "    print(\"E_MAGIC (HEX):\\n\\t {}\".format(e_magic[1]))\n",
    "    \n",
    "    signature.append(pe.NT_HEADERS.Signature)\n",
    "    signature.append(hex(pe.NT_HEADERS.Signature))\n",
    "    \n",
    "    print(\"SIGNATIURE :\\n\\t {}\".format(signature[0]))\n",
    "    print(\"SIGNATIURE (HEX):\\n\\t {}\".format(signature[1]))\n",
    "    \n",
    "    for section in pe.sections:\n",
    "        sections.append(section.Name.decode(\"utf-8\"))\n",
    "        sections.append(hex(section.VirtualAddress))\n",
    "        sections.append(hex(section.Misc_VirtualSize))\n",
    "        sections.append(hex(section.SizeOfRawData))\n",
    "        \n",
    "        print(section.Name.decode('utf-8'))\n",
    "        print(\"\\tVirtual Address: \" + hex(section.VirtualAddress))\n",
    "        print(\"\\tVirtual Size: \" + hex(section.Misc_VirtualSize))\n",
    "        print(\"\\tRaw Size: \" + hex(section.SizeOfRawData))\n",
    "    \n",
    "    df.append(e_magic)\n",
    "    df.append(signature)\n",
    "    df.append(sections)"
   ]
  },
  {
   "cell_type": "markdown",
   "id": "bd24e813-175f-4ba5-88ca-fe3d3e7d7a04",
   "metadata": {},
   "source": [
    "**3. ¿en que categoría sospechosas pueden clasificarse estos ejemplos en base a algunas de las \n",
    "llamadas a las APIs que realizan? Muestre una tabla con las APIs sospechosas y la categoría de malware que el paper propone**\n",
    "\n",
    "| File Name             | Behaviour   | Malware Category     | API Call               |\n",
    "|-----------------------|-------------|----------------------|------------------------|\n",
    "| sample_vg655_25th.exe | Behaviour 2 | Copy/Delete Files    | CloseHandle            |\n",
    "|                       | Behaviour 3 | Get File Information | GetFileSize            |\n",
    "|                       | Behaviour 5 | Read/Write Files     | CloseHandle, WriteFile |\n",
    "| sample_qwrty_dk2      | Behaviour 2 | Copy/Delete Files    | CloseHandle            |\n",
    "|                       | Behaviour 5 | Read/Write Files     | CloseHandle, WriteFile |"
   ]
  },
  {
   "cell_type": "markdown",
   "id": "c907c6e4-8eac-4c03-825f-2732f4d13e89",
   "metadata": {},
   "source": [
    "**4. Para el archivo “sample_vg655_25th.exe” obtenga el HASH en base al algoritmo SHA256.**"
   ]
  },
  {
   "cell_type": "code",
   "execution_count": 35,
   "id": "3cc5237e-5121-4abc-b121-84e8202ddff6",
   "metadata": {},
   "outputs": [
    {
     "data": {
      "text/plain": [
       "'e6d7d2eb6ca74ef22c136c33293d911f0d33edac89396129723f30c02490e13f'"
      ]
     },
     "execution_count": 35,
     "metadata": {},
     "output_type": "execute_result"
    }
   ],
   "source": [
    "hs = hashlib.sha256(all_files[1].encode('utf-8')).hexdigest()\n",
    "hs"
   ]
  },
  {
   "cell_type": "markdown",
   "id": "9246a67b-49a9-4473-8e8b-3b217479a738",
   "metadata": {},
   "source": [
    "**5. Para el archivo “sample_vg655_25th.exe”, ¿cuál es el propósito de la DLL ADVAPI32.dll?**\n",
    "\n",
    "\n",
    "Advapi32.dll es un archivo DLL avanzado de API base de Windows 32; es una biblioteca de servicios API que admite llamadas de registro y seguridad."
   ]
  },
  {
   "cell_type": "markdown",
   "id": "c3e57375-6223-4a68-8d11-965a1af9ddb6",
   "metadata": {
    "tags": []
   },
   "source": [
    "**6. Para  el  archivo  “sample_vg655_25th.exe”,  ¿cuál  es  el  propósito  de  la  API \n",
    "CryptReleaseContext?**\n",
    "\n",
    "Esta función se utiliza para liberar un identificador a un proveedor de servicios criptográficos (CSP) y un contenedor de claves.\n",
    "Esto debe realizarse cuando la aplicación termine de usar el CSP. Después de llamar a esta función, el identificador de CSP especificado por el parámetro hProv ya no es válido. Esta función no destruye ni el contenedor de claves ni ningún par de claves.\n",
    "\n",
    "https://docs.microsoft.com/en-us/previous-versions/ms936171(v=msdn.10)"
   ]
  },
  {
   "cell_type": "markdown",
   "id": "de26d5c7-5ef1-43ab-983c-2f53af637a36",
   "metadata": {},
   "source": [
    "**7. Con  la  información  recopilada  hasta  el  momento,  indique  para  el  archivo “sample_vg655_25th.exe” si es sospechoso o no, y cual podría ser su propósito.**\n",
    "\n",
    "Por el momento creo que el archivo es sospechoso. Según las llamadas que investigamos, parecían tener una \"mala intención\". El propósito del archivo podría ser en obtener información y crear archivos, también hay varias llamadas a APIs que crean procesos o eventos."
   ]
  },
  {
   "cell_type": "markdown",
   "id": "41bc1233-edad-4b09-9e0d-b5847833ae42",
   "metadata": {},
   "source": [
    "\n",
    "#### **Análisis Dinámico**\n"
   ]
  },
  {
   "cell_type": "markdown",
   "id": "097950d2-3572-4b5c-ba86-077b8cdb29d3",
   "metadata": {},
   "source": [
    "**8. Utilice la plataforma de análisis dinámico https://www.hybrid-analysis.com y cargue el archivo \n",
    "“sample_vg655_25th.exe”. ¿Se corresponde el HASH de la plataforma con el generado? ¿Cuál \n",
    "es el nombre del malware encontrado? ¿En que consiste este malware?**\n",
    "\n",
    "El HASH de la plataforma no coincide con el generado. El nombre de este malware es \"owo_im_not_ransomware_xd.exe\". Este malware consiste en un Trojano. según la página, puede tener aceso a nuestra máquina de forma remota, puede ser spyware, spawnea muchos procesos, escribe datos a un proceso remoto, consulta el kernel para información del sistema, elimina archivos, entre otros."
   ]
  },
  {
   "cell_type": "markdown",
   "id": "0f9373df-5770-4236-ac71-1c19825ecb88",
   "metadata": {},
   "source": [
    "**9. Muestre las capturas de pantalla sobre los mensajes que este malware presenta a usuario. \n",
    "¿Se corresponden las sospechas con el análisis realizado en el punto 7?**\n",
    "\n",
    "Los screenshots se encuentran en la carpeta llamada \"ad_9\". Ciertas cosas sí se lograron identificar en la pregunta 7, como el obtener información de archivos, crear archivos y proceos."
   ]
  },
  {
   "cell_type": "markdown",
   "id": "7366426a-bd63-4bb6-bfdf-f626a09f066d",
   "metadata": {},
   "source": [
    "\n",
    "### Parte II --> Clasificación de un malware en base a secuencia de llamadas a las APIs\n",
    "\n"
   ]
  },
  {
   "cell_type": "code",
   "execution_count": 41,
   "id": "d3ca7c36-6ac3-4ce7-9e69-d12d8b286cfe",
   "metadata": {},
   "outputs": [],
   "source": [
    "df = pd.read_csv(\"VirusSample.csv\")"
   ]
  },
  {
   "cell_type": "code",
   "execution_count": 42,
   "id": "6ddaccbb-2bd7-44d7-a960-d6d6f73615a3",
   "metadata": {},
   "outputs": [
    {
     "data": {
      "text/html": [
       "<div>\n",
       "<style scoped>\n",
       "    .dataframe tbody tr th:only-of-type {\n",
       "        vertical-align: middle;\n",
       "    }\n",
       "\n",
       "    .dataframe tbody tr th {\n",
       "        vertical-align: top;\n",
       "    }\n",
       "\n",
       "    .dataframe thead th {\n",
       "        text-align: right;\n",
       "    }\n",
       "</style>\n",
       "<table border=\"1\" class=\"dataframe\">\n",
       "  <thead>\n",
       "    <tr style=\"text-align: right;\">\n",
       "      <th></th>\n",
       "      <th>file</th>\n",
       "      <th>api</th>\n",
       "      <th>class</th>\n",
       "    </tr>\n",
       "  </thead>\n",
       "  <tbody>\n",
       "    <tr>\n",
       "      <th>0</th>\n",
       "      <td>7ff49f2f0912352416b05c010f35f402cc79feed</td>\n",
       "      <td>IntersectRect,GetCurrentProcess,GetVersion</td>\n",
       "      <td>Virus</td>\n",
       "    </tr>\n",
       "    <tr>\n",
       "      <th>1</th>\n",
       "      <td>50cc6c99ec285d0db45dde07d8fdc18d9098c5b6</td>\n",
       "      <td>GetCaretBlinkTime,CountClipboardFormats,GetCon...</td>\n",
       "      <td>Virus</td>\n",
       "    </tr>\n",
       "    <tr>\n",
       "      <th>2</th>\n",
       "      <td>f77c6bd4aebacd1a01d02e0cb20642ebf2d32929</td>\n",
       "      <td>VarR8Pow,GetClipboardViewer,GetInputDesktop,Ge...</td>\n",
       "      <td>Virus</td>\n",
       "    </tr>\n",
       "    <tr>\n",
       "      <th>3</th>\n",
       "      <td>349c367c5b88fbb6cafae5d7109588d7250e16b5</td>\n",
       "      <td>SetTraceCallback,CopyAcceleratorTableW,GetProc...</td>\n",
       "      <td>Virus</td>\n",
       "    </tr>\n",
       "    <tr>\n",
       "      <th>4</th>\n",
       "      <td>021f4aa86b520e1d606ab26699c35546bcd00c27</td>\n",
       "      <td>SHLoadNonloadedIconOverlayIdentifiers,VarUI8Fr...</td>\n",
       "      <td>Virus</td>\n",
       "    </tr>\n",
       "  </tbody>\n",
       "</table>\n",
       "</div>"
      ],
      "text/plain": [
       "                                       file  \\\n",
       "0  7ff49f2f0912352416b05c010f35f402cc79feed   \n",
       "1  50cc6c99ec285d0db45dde07d8fdc18d9098c5b6   \n",
       "2  f77c6bd4aebacd1a01d02e0cb20642ebf2d32929   \n",
       "3  349c367c5b88fbb6cafae5d7109588d7250e16b5   \n",
       "4  021f4aa86b520e1d606ab26699c35546bcd00c27   \n",
       "\n",
       "                                                 api  class  \n",
       "0         IntersectRect,GetCurrentProcess,GetVersion  Virus  \n",
       "1  GetCaretBlinkTime,CountClipboardFormats,GetCon...  Virus  \n",
       "2  VarR8Pow,GetClipboardViewer,GetInputDesktop,Ge...  Virus  \n",
       "3  SetTraceCallback,CopyAcceleratorTableW,GetProc...  Virus  \n",
       "4  SHLoadNonloadedIconOverlayIdentifiers,VarUI8Fr...  Virus  "
      ]
     },
     "execution_count": 42,
     "metadata": {},
     "output_type": "execute_result"
    }
   ],
   "source": [
    "df.head()"
   ]
  },
  {
   "cell_type": "code",
   "execution_count": null,
   "id": "993cb4bf-2e69-4392-8c1b-d37bfc2738b1",
   "metadata": {},
   "outputs": [],
   "source": [
    "TRAIN_RATIO = 0.7\n",
    "TEST_RATIO = 0.3\n",
    "\n"
   ]
  }
 ],
 "metadata": {
  "kernelspec": {
   "display_name": "Python 3 (ipykernel)",
   "language": "python",
   "name": "python3"
  },
  "language_info": {
   "codemirror_mode": {
    "name": "ipython",
    "version": 3
   },
   "file_extension": ".py",
   "mimetype": "text/x-python",
   "name": "python",
   "nbconvert_exporter": "python",
   "pygments_lexer": "ipython3",
   "version": "3.8.9"
  }
 },
 "nbformat": 4,
 "nbformat_minor": 5
}
