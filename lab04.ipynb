{
 "cells": [
  {
   "cell_type": "markdown",
   "id": "f0c77b92-302d-4f69-ad46-b23e13a40bf0",
   "metadata": {},
   "source": [
    "# Laboratorio 04 --> Clasificación de Malware"
   ]
  },
  {
   "cell_type": "markdown",
   "id": "f00b950c-2f4d-4778-8965-0b4281a0fdad",
   "metadata": {},
   "source": [
    "Universidad del Valle de Guatemala"
   ]
  },
  {
   "cell_type": "markdown",
   "id": "eb127f0e-0775-40d0-9d56-eb9c7a8fdb80",
   "metadata": {},
   "source": [
    "Luis Pedro Cuéllar - 18220"
   ]
  },
  {
   "cell_type": "markdown",
   "id": "f1d9892e-67f2-4bfb-8e5e-9ce9a9c22e41",
   "metadata": {},
   "source": [
    "\n",
    "### Parte I --> Análisis de un Malware\n"
   ]
  },
  {
   "cell_type": "code",
   "execution_count": 1,
   "id": "d4f53e16-46d3-4813-80b6-da462cccc6f0",
   "metadata": {},
   "outputs": [],
   "source": [
    "import os\n",
    "import glob\n",
    "import pefile\n",
    "import hashlib\n",
    "import numpy as np\n",
    "import pandas as pd"
   ]
  },
  {
   "cell_type": "code",
   "execution_count": 6,
   "id": "580ee10e-0dba-4553-bcc9-2998046b8d75",
   "metadata": {},
   "outputs": [
    {
     "data": {
      "text/plain": [
       "['MALWR2/sample_qwrty_dk2', 'MALWR2/sample_vg655_25th.exe']"
      ]
     },
     "execution_count": 6,
     "metadata": {},
     "output_type": "execute_result"
    }
   ],
   "source": [
    "PATH = \"MALWR2\"\n",
    "\n",
    "all_files = glob.glob(\"{}/*\".format(PATH))\n",
    "all_files"
   ]
  },
  {
   "cell_type": "markdown",
   "id": "6f97604c-b24d-4a3a-bf6e-75c824e0baf3",
   "metadata": {},
   "source": [
    "\n",
    "#### **Análisis Estático**\n"
   ]
  },
  {
   "cell_type": "code",
   "execution_count": 19,
   "id": "8458fb19-f880-40ed-9050-750e18853817",
   "metadata": {
    "tags": []
   },
   "outputs": [
    {
     "name": "stdout",
     "output_type": "stream",
     "text": [
      "\n",
      "\n",
      "FILE NAME :\n",
      "\t MALWR2/sample_qwrty_dk2\n",
      "DLL CALLS :\n",
      "\t ['KERNEL32.DLL', 'MSVCRT.dll', 'SHELL32.dll', 'USER32.dll', 'WS2_32.dll']\n",
      "API_CALLS :\n",
      "\t ['LoadLibraryA', 'ExitProcess', 'GetProcAddress', 'VirtualProtect', 'atol', 'SHChangeNotify', 'LoadStringA', 'closesocket']\n",
      "\n",
      "\n",
      "FILE NAME :\n",
      "\t MALWR2/sample_vg655_25th.exe\n",
      "DLL CALLS :\n",
      "\t ['KERNEL32.dll', 'USER32.dll', 'ADVAPI32.dll', 'MSVCRT.dll']\n",
      "API_CALLS :\n",
      "\t ['GetFileAttributesW', 'GetFileSizeEx', 'CreateFileA', 'InitializeCriticalSection', 'DeleteCriticalSection', 'ReadFile', 'GetFileSize', 'WriteFile', 'LeaveCriticalSection', 'EnterCriticalSection', 'SetFileAttributesW', 'SetCurrentDirectoryW', 'CreateDirectoryW', 'GetTempPathW', 'GetWindowsDirectoryW', 'GetFileAttributesA', 'SizeofResource', 'LockResource', 'LoadResource', 'MultiByteToWideChar', 'Sleep', 'OpenMutexA', 'GetFullPathNameA', 'CopyFileA', 'GetModuleFileNameA', 'VirtualAlloc', 'VirtualFree', 'FreeLibrary', 'HeapAlloc', 'GetProcessHeap', 'GetModuleHandleA', 'SetLastError', 'VirtualProtect', 'IsBadReadPtr', 'HeapFree', 'SystemTimeToFileTime', 'LocalFileTimeToFileTime', 'CreateDirectoryA', 'GetStartupInfoA', 'SetFilePointer', 'SetFileTime', 'GetComputerNameW', 'GetCurrentDirectoryA', 'SetCurrentDirectoryA', 'GlobalAlloc', 'LoadLibraryA', 'GetProcAddress', 'GlobalFree', 'CreateProcessA', 'CloseHandle', 'WaitForSingleObject', 'TerminateProcess', 'GetExitCodeProcess', 'FindResourceA', 'wsprintfA', 'CreateServiceA', 'OpenServiceA', 'StartServiceA', 'CloseServiceHandle', 'CryptReleaseContext', 'RegCreateKeyW', 'RegSetValueExA', 'RegQueryValueExA', 'RegCloseKey', 'OpenSCManagerA', 'realloc', 'fclose', 'fwrite', 'fread', 'fopen', 'sprintf', 'rand', 'srand', 'strcpy', 'memset', 'strlen', 'wcscat', 'wcslen', '__CxxFrameHandler', '??3@YAXPAX@Z', 'memcmp', '_except_handler3', '_local_unwind2', 'wcsrchr', 'swprintf', '??2@YAPAXI@Z', 'memcpy', 'strcmp', 'strrchr', '__p___argv', '__p___argc', '_stricmp', 'free', 'malloc', '??0exception@@QAE@ABV0@@Z', '??1exception@@UAE@XZ', '??0exception@@QAE@ABQBD@Z', '_CxxThrowException', 'calloc', 'strcat', '_mbsstr', '??1type_info@@UAE@XZ', '_exit', '_XcptFilter', 'exit', '_acmdln', '__getmainargs', '_initterm', '__setusermatherr', '_adjust_fdiv', '__p__commode', '__p__fmode', '__set_app_type', '_controlfp']\n"
     ]
    }
   ],
   "source": [
    "df = []\n",
    "\n",
    "for i in all_files:\n",
    "    dll_calls = []\n",
    "    api_calls = []\n",
    "    \n",
    "    pe = pefile.PE(i)\n",
    "    for entry in pe.DIRECTORY_ENTRY_IMPORT:\n",
    "        dll_calls.append(entry.dll.decode(\"utf-8\"))\n",
    "        \n",
    "        for call in entry.imports:\n",
    "            api_calls.append(call.name.decode(\"utf-8\"))\n",
    "    \n",
    "    df.append(dll_calls)\n",
    "    df.append(api_calls)\n",
    "    \n",
    "    print(\"\\n\")\n",
    "    print(\"FILE NAME :\\n\\t {}\".format(i))\n",
    "    print(\"DLL CALLS :\\n\\t {}\".format(dll_calls))\n",
    "    print(\"API_CALLS :\\n\\t {}\".format(api_calls))"
   ]
  },
  {
   "cell_type": "markdown",
   "id": "cfbbf2e3-1d57-4981-a4fb-b8c38efb249e",
   "metadata": {},
   "source": [
    "**1. ¿Qué  diferencias  observa  entre  los  ejemplos?  ¿Existe  algún  indicio \n",
    "sospechoso en la cantidad de DLLs y las APIs llamadas?**\n",
    "\n",
    "Entre los dos archivos que se extrajeron, se puede observar que la cantidad de llamadas en el segudo archivo aumenta significativamente. En el segundo archivo podemos observar llamas a API como la de abrir, escribir y cerrar un archivo. También, se obtiene varios path, crea archivos con el path, con el timestamp y otras llamadas a APIs.\n"
   ]
  },
  {
   "cell_type": "code",
   "execution_count": 29,
   "id": "8addf3ff-26b3-45de-b016-ea4b9f00efa5",
   "metadata": {},
   "outputs": [
    {
     "name": "stdout",
     "output_type": "stream",
     "text": [
      "\n",
      "FILE NAME :\n",
      "\t MALWR2/sample_qwrty_dk2\n",
      "E_MAGIC :\n",
      "\t 23117\n",
      "E_MAGIC (HEX):\n",
      "\t 0x5a4d\n",
      "SIGNATIURE :\n",
      "\t 17744\n",
      "SIGNATIURE (HEX):\n",
      "\t 0x4550\n",
      "UPX0\u0000\u0000\u0000\u0000\n",
      "\tVirtual Address: 0x1000\n",
      "\tVirtual Size: 0x5000\n",
      "\tRaw Size: 0x0\n",
      "UPX1\u0000\u0000\u0000\u0000\n",
      "\tVirtual Address: 0x6000\n",
      "\tVirtual Size: 0x1000\n",
      "\tRaw Size: 0x1000\n",
      ".rsrc\u0000\u0000\u0000\n",
      "\tVirtual Address: 0x7000\n",
      "\tVirtual Size: 0x1000\n",
      "\tRaw Size: 0x200\n",
      "\n",
      "FILE NAME :\n",
      "\t MALWR2/sample_vg655_25th.exe\n",
      "E_MAGIC :\n",
      "\t 23117\n",
      "E_MAGIC (HEX):\n",
      "\t 0x5a4d\n",
      "SIGNATIURE :\n",
      "\t 17744\n",
      "SIGNATIURE (HEX):\n",
      "\t 0x4550\n",
      ".text\u0000\u0000\u0000\n",
      "\tVirtual Address: 0x1000\n",
      "\tVirtual Size: 0x69b0\n",
      "\tRaw Size: 0x7000\n",
      ".rdata\u0000\u0000\n",
      "\tVirtual Address: 0x8000\n",
      "\tVirtual Size: 0x5f70\n",
      "\tRaw Size: 0x6000\n",
      ".data\u0000\u0000\u0000\n",
      "\tVirtual Address: 0xe000\n",
      "\tVirtual Size: 0x1958\n",
      "\tRaw Size: 0x2000\n",
      ".rsrc\u0000\u0000\u0000\n",
      "\tVirtual Address: 0x10000\n",
      "\tVirtual Size: 0x349fa0\n",
      "\tRaw Size: 0x34a000\n"
     ]
    }
   ],
   "source": [
    "df = []\n",
    "\n",
    "for i in all_files:\n",
    "    e_magic = []\n",
    "    signature = []\n",
    "    sections = []\n",
    "    \n",
    "    pe = pefile.PE(i)\n",
    "    \n",
    "    print(\"\\nFILE NAME :\\n\\t {}\".format(i))\n",
    "    \n",
    "    e_magic.append(pe.DOS_HEADER.e_magic)\n",
    "    e_magic.append(hex(pe.DOS_HEADER.e_magic))\n",
    "    \n",
    "    print(\"E_MAGIC :\\n\\t {}\".format(e_magic[0]))\n",
    "    print(\"E_MAGIC (HEX):\\n\\t {}\".format(e_magic[1]))\n",
    "    \n",
    "    signature.append(pe.NT_HEADERS.Signature)\n",
    "    signature.append(hex(pe.NT_HEADERS.Signature))\n",
    "    \n",
    "    print(\"SIGNATIURE :\\n\\t {}\".format(signature[0]))\n",
    "    print(\"SIGNATIURE (HEX):\\n\\t {}\".format(signature[1]))\n",
    "    \n",
    "    for section in pe.sections:\n",
    "        sections.append(section.Name.decode(\"utf-8\"))\n",
    "        sections.append(hex(section.VirtualAddress))\n",
    "        sections.append(hex(section.Misc_VirtualSize))\n",
    "        sections.append(hex(section.SizeOfRawData))\n",
    "        \n",
    "        print(section.Name.decode('utf-8'))\n",
    "        print(\"\\tVirtual Address: \" + hex(section.VirtualAddress))\n",
    "        print(\"\\tVirtual Size: \" + hex(section.Misc_VirtualSize))\n",
    "        print(\"\\tRaw Size: \" + hex(section.SizeOfRawData))\n",
    "    \n",
    "    df.append(e_magic)\n",
    "    df.append(signature)\n",
    "    df.append(sections)"
   ]
  },
  {
   "cell_type": "markdown",
   "id": "28e687f1-4427-4b7c-a557-a10023189ee0",
   "metadata": {},
   "source": [
    "**2. ¿Qué significa que algunas secciones tengan como parte de su nombre “upx”?**\n",
    "\n",
    "Significa que este paquete se encuentra enpaquetado."
   ]
  },
  {
   "cell_type": "code",
   "execution_count": 31,
   "id": "7c88cb10-d4cd-4c0b-918b-43cf0745a934",
   "metadata": {},
   "outputs": [
    {
     "name": "stdout",
     "output_type": "stream",
     "text": [
      "                       Ultimate Packer for eXecutables\n",
      "                          Copyright (C) 1996 - 2020\n",
      "UPX 3.96        Markus Oberhumer, Laszlo Molnar & John Reiser   Jan 23rd 2020\n",
      "\n",
      "        File size         Ratio      Format      Name\n",
      "   --------------------   ------   -----------   -----------\n",
      "      8192 <-      5632   68.75%    win32/pe     sample_qwrty_dk2\n",
      "\n",
      "Unpacked 1 file.\n"
     ]
    },
    {
     "data": {
      "text/plain": [
       "0"
      ]
     },
     "execution_count": 31,
     "metadata": {},
     "output_type": "execute_result"
    }
   ],
   "source": [
    "os.system(\"upx -d {}\".format(all_files[0])) "
   ]
  },
  {
   "cell_type": "code",
   "execution_count": 33,
   "id": "2ebe4f82-3cf2-44ea-8e62-e4c986f8e557",
   "metadata": {},
   "outputs": [
    {
     "name": "stdout",
     "output_type": "stream",
     "text": [
      "\n",
      "\n",
      "FILE NAME :\n",
      "\t MALWR2/sample_qwrty_dk2\n",
      "DLL CALLS :\n",
      "\t ['KERNEL32.DLL', 'MSVCRT.dll', 'SHELL32.dll', 'USER32.dll', 'WS2_32.dll']\n",
      "API_CALLS :\n",
      "\t ['CloseHandle', 'WaitForSingleObject', 'CreateEventA', 'ExitThread', 'Sleep', 'GetComputerNameA', 'CreatePipe', 'DisconnectNamedPipe', 'TerminateProcess', 'WaitForMultipleObjects', 'TerminateThread', 'CreateThread', 'CreateProcessA', 'DuplicateHandle', 'GetCurrentProcess', 'ReadFile', 'PeekNamedPipe', 'SetEvent', 'WriteFile', 'SetProcessPriorityBoost', 'SetThreadPriority', 'GetCurrentThread', 'SetPriorityClass', 'lstrcatA', 'lstrcpyA', 'GetEnvironmentVariableA', 'GetShortPathNameA', 'GetModuleFileNameA', 'GetStartupInfoA', 'GetModuleHandleA', '_controlfp', '_beginthread', '_strnicmp', 'sprintf', 'atol', 'strchr', 'free', 'malloc', '_exit', '_XcptFilter', 'exit', '_acmdln', '__getmainargs', '_initterm', '__setusermatherr', '_adjust_fdiv', '__p__commode', '__p__fmode', '__set_app_type', '_except_handler3', '_itoa', 'ShellExecuteExA', 'SHChangeNotify', 'LoadStringA', 'htons', 'connect', 'socket', 'WSAStartup', 'send', 'inet_addr', 'recv', 'closesocket']\n",
      "\n",
      "\n",
      "FILE NAME :\n",
      "\t MALWR2/sample_vg655_25th.exe\n",
      "DLL CALLS :\n",
      "\t ['KERNEL32.dll', 'USER32.dll', 'ADVAPI32.dll', 'MSVCRT.dll']\n",
      "API_CALLS :\n",
      "\t ['GetFileAttributesW', 'GetFileSizeEx', 'CreateFileA', 'InitializeCriticalSection', 'DeleteCriticalSection', 'ReadFile', 'GetFileSize', 'WriteFile', 'LeaveCriticalSection', 'EnterCriticalSection', 'SetFileAttributesW', 'SetCurrentDirectoryW', 'CreateDirectoryW', 'GetTempPathW', 'GetWindowsDirectoryW', 'GetFileAttributesA', 'SizeofResource', 'LockResource', 'LoadResource', 'MultiByteToWideChar', 'Sleep', 'OpenMutexA', 'GetFullPathNameA', 'CopyFileA', 'GetModuleFileNameA', 'VirtualAlloc', 'VirtualFree', 'FreeLibrary', 'HeapAlloc', 'GetProcessHeap', 'GetModuleHandleA', 'SetLastError', 'VirtualProtect', 'IsBadReadPtr', 'HeapFree', 'SystemTimeToFileTime', 'LocalFileTimeToFileTime', 'CreateDirectoryA', 'GetStartupInfoA', 'SetFilePointer', 'SetFileTime', 'GetComputerNameW', 'GetCurrentDirectoryA', 'SetCurrentDirectoryA', 'GlobalAlloc', 'LoadLibraryA', 'GetProcAddress', 'GlobalFree', 'CreateProcessA', 'CloseHandle', 'WaitForSingleObject', 'TerminateProcess', 'GetExitCodeProcess', 'FindResourceA', 'wsprintfA', 'CreateServiceA', 'OpenServiceA', 'StartServiceA', 'CloseServiceHandle', 'CryptReleaseContext', 'RegCreateKeyW', 'RegSetValueExA', 'RegQueryValueExA', 'RegCloseKey', 'OpenSCManagerA', 'realloc', 'fclose', 'fwrite', 'fread', 'fopen', 'sprintf', 'rand', 'srand', 'strcpy', 'memset', 'strlen', 'wcscat', 'wcslen', '__CxxFrameHandler', '??3@YAXPAX@Z', 'memcmp', '_except_handler3', '_local_unwind2', 'wcsrchr', 'swprintf', '??2@YAPAXI@Z', 'memcpy', 'strcmp', 'strrchr', '__p___argv', '__p___argc', '_stricmp', 'free', 'malloc', '??0exception@@QAE@ABV0@@Z', '??1exception@@UAE@XZ', '??0exception@@QAE@ABQBD@Z', '_CxxThrowException', 'calloc', 'strcat', '_mbsstr', '??1type_info@@UAE@XZ', '_exit', '_XcptFilter', 'exit', '_acmdln', '__getmainargs', '_initterm', '__setusermatherr', '_adjust_fdiv', '__p__commode', '__p__fmode', '__set_app_type', '_controlfp']\n"
     ]
    }
   ],
   "source": [
    "df = []\n",
    "\n",
    "for i in all_files:\n",
    "    dll_calls = []\n",
    "    api_calls = []\n",
    "    \n",
    "    pe = pefile.PE(i)\n",
    "    for entry in pe.DIRECTORY_ENTRY_IMPORT:\n",
    "        dll_calls.append(entry.dll.decode(\"utf-8\"))\n",
    "        \n",
    "        for call in entry.imports:\n",
    "            api_calls.append(call.name.decode(\"utf-8\"))\n",
    "    \n",
    "    df.append(dll_calls)\n",
    "    df.append(api_calls)\n",
    "    \n",
    "    print(\"\\n\")\n",
    "    print(\"FILE NAME :\\n\\t {}\".format(i))\n",
    "    print(\"DLL CALLS :\\n\\t {}\".format(dll_calls))\n",
    "    print(\"API_CALLS :\\n\\t {}\".format(api_calls))"
   ]
  },
  {
   "cell_type": "code",
   "execution_count": 32,
   "id": "c26d754a-5831-4afe-b5c1-7d884c14de24",
   "metadata": {},
   "outputs": [
    {
     "name": "stdout",
     "output_type": "stream",
     "text": [
      "\n",
      "FILE NAME :\n",
      "\t MALWR2/sample_qwrty_dk2\n",
      "E_MAGIC :\n",
      "\t 23117\n",
      "E_MAGIC (HEX):\n",
      "\t 0x5a4d\n",
      "SIGNATIURE :\n",
      "\t 17744\n",
      "SIGNATIURE (HEX):\n",
      "\t 0x4550\n",
      ".text\u0000\u0000\u0000\n",
      "\tVirtual Address: 0x1000\n",
      "\tVirtual Size: 0xea6\n",
      "\tRaw Size: 0x1000\n",
      ".rdata\u0000\u0000\n",
      "\tVirtual Address: 0x2000\n",
      "\tVirtual Size: 0x67e\n",
      "\tRaw Size: 0x800\n",
      ".data\u0000\u0000\u0000\n",
      "\tVirtual Address: 0x3000\n",
      "\tVirtual Size: 0x628\n",
      "\tRaw Size: 0x200\n",
      ".rsrc\u0000\u0000\u0000\n",
      "\tVirtual Address: 0x4000\n",
      "\tVirtual Size: 0x80\n",
      "\tRaw Size: 0x200\n",
      "\n",
      "FILE NAME :\n",
      "\t MALWR2/sample_vg655_25th.exe\n",
      "E_MAGIC :\n",
      "\t 23117\n",
      "E_MAGIC (HEX):\n",
      "\t 0x5a4d\n",
      "SIGNATIURE :\n",
      "\t 17744\n",
      "SIGNATIURE (HEX):\n",
      "\t 0x4550\n",
      ".text\u0000\u0000\u0000\n",
      "\tVirtual Address: 0x1000\n",
      "\tVirtual Size: 0x69b0\n",
      "\tRaw Size: 0x7000\n",
      ".rdata\u0000\u0000\n",
      "\tVirtual Address: 0x8000\n",
      "\tVirtual Size: 0x5f70\n",
      "\tRaw Size: 0x6000\n",
      ".data\u0000\u0000\u0000\n",
      "\tVirtual Address: 0xe000\n",
      "\tVirtual Size: 0x1958\n",
      "\tRaw Size: 0x2000\n",
      ".rsrc\u0000\u0000\u0000\n",
      "\tVirtual Address: 0x10000\n",
      "\tVirtual Size: 0x349fa0\n",
      "\tRaw Size: 0x34a000\n"
     ]
    }
   ],
   "source": [
    "df = []\n",
    "\n",
    "for i in all_files:\n",
    "    e_magic = []\n",
    "    signature = []\n",
    "    sections = []\n",
    "    \n",
    "    pe = pefile.PE(i)\n",
    "    \n",
    "    print(\"\\nFILE NAME :\\n\\t {}\".format(i))\n",
    "    \n",
    "    e_magic.append(pe.DOS_HEADER.e_magic)\n",
    "    e_magic.append(hex(pe.DOS_HEADER.e_magic))\n",
    "    \n",
    "    print(\"E_MAGIC :\\n\\t {}\".format(e_magic[0]))\n",
    "    print(\"E_MAGIC (HEX):\\n\\t {}\".format(e_magic[1]))\n",
    "    \n",
    "    signature.append(pe.NT_HEADERS.Signature)\n",
    "    signature.append(hex(pe.NT_HEADERS.Signature))\n",
    "    \n",
    "    print(\"SIGNATIURE :\\n\\t {}\".format(signature[0]))\n",
    "    print(\"SIGNATIURE (HEX):\\n\\t {}\".format(signature[1]))\n",
    "    \n",
    "    for section in pe.sections:\n",
    "        sections.append(section.Name.decode(\"utf-8\"))\n",
    "        sections.append(hex(section.VirtualAddress))\n",
    "        sections.append(hex(section.Misc_VirtualSize))\n",
    "        sections.append(hex(section.SizeOfRawData))\n",
    "        \n",
    "        print(section.Name.decode('utf-8'))\n",
    "        print(\"\\tVirtual Address: \" + hex(section.VirtualAddress))\n",
    "        print(\"\\tVirtual Size: \" + hex(section.Misc_VirtualSize))\n",
    "        print(\"\\tRaw Size: \" + hex(section.SizeOfRawData))\n",
    "    \n",
    "    df.append(e_magic)\n",
    "    df.append(signature)\n",
    "    df.append(sections)"
   ]
  },
  {
   "cell_type": "markdown",
   "id": "cdd6acb9-4be7-4890-b320-700b6c6635ce",
   "metadata": {},
   "source": []
  }
 ],
 "metadata": {
  "kernelspec": {
   "display_name": "Python 3 (ipykernel)",
   "language": "python",
   "name": "python3"
  },
  "language_info": {
   "codemirror_mode": {
    "name": "ipython",
    "version": 3
   },
   "file_extension": ".py",
   "mimetype": "text/x-python",
   "name": "python",
   "nbconvert_exporter": "python",
   "pygments_lexer": "ipython3",
   "version": "3.8.9"
  }
 },
 "nbformat": 4,
 "nbformat_minor": 5
}
